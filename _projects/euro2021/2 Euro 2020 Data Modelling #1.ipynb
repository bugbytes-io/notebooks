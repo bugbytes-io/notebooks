{
 "cells": [
  {
   "cell_type": "markdown",
   "metadata": {
    "id": "MmDIAPaWfcyJ"
   },
   "source": [
    "### Data Modelling Overview\n",
    "\n",
    "In this lesson, we will create Python **classes** that model the Euro 2021 football data that has been scraped from the BBC in the previous lesson. In particular, we will create:\n",
    "\n",
    "- A `Result` class that represents a result in the tournament, with attributes for each team and the goals each team scored in the match. We will create methods to determine who won a match, lost a match, whether the result was a draw, and more. \n",
    "- A `TeamStat` class to represent a team's overall statistics in the tournament (goals scored, goals conceded, games won on penalties, etc).\n",
    "\n",
    "We will use type-annotated Python [dataclasses](https://docs.python.org/3/library/dataclasses.html) to model the data. We will also look at some \"dunder\" methods from [Python's data model](https://docs.python.org/3/reference/datamodel.html) for modelling certain features in an intuitive, Pythonic way."
   ]
  },
  {
   "cell_type": "code",
   "execution_count": null,
   "metadata": {
    "id": "YQy-NxOuXjdb"
   },
   "outputs": [],
   "source": [
    "import time\n",
    "from bs4 import BeautifulSoup\n",
    "import pandas as pd\n",
    "import requests"
   ]
  },
  {
   "cell_type": "markdown",
   "metadata": {
    "id": "K5RUPc4VXm9S"
   },
   "source": [
    "In the last tutorial we had the following code to gather Euro 2021 data"
   ]
  },
  {
   "cell_type": "code",
   "execution_count": null,
   "metadata": {
    "id": "hpOBn4BDXlne"
   },
   "outputs": [],
   "source": [
    "base_url = 'https://www.bbc.co.uk/sport/football/european-championship/scores-fixtures'\n",
    "start_date = '2021-06-11'\n",
    "end_date = '2021-07-11'\n",
    "KNOCKOUT_GAMES_START = pd.Timestamp('2021-06-26')\n",
    "\n",
    "# generate tournament dates and URLs\n",
    "tournament_dates = pd.date_range(start_date, end_date)\n",
    "urls = [f\"{base_url}/{dt.date()}\" for dt in tournament_dates]\n",
    "\n",
    "# container to store results\n",
    "results = []\n",
    "\n",
    "def show_result(home, home_goals, away, away_goals, pens=None) -> str:\n",
    "  \"\"\" Stringifies a result from the scraped data \"\"\"\n",
    "  if pens:\n",
    "    return f\"{home} {home_goals} - {away_goals} {away} ({pens})\"  \n",
    "  return f\"{home} {home_goals} - {away_goals} {away}\"\n",
    "\n",
    "\n",
    "for url in urls:\n",
    "  response = requests.get(url)\n",
    "  # time.sleep(1)\n",
    "  \n",
    "  soup = BeautifulSoup(response.text)\n",
    "\n",
    "  # get all fixtures on the page\n",
    "  fixtures = soup.find_all('article', {'class': 'sp-c-fixture'})\n",
    "\n",
    "  for fixture in fixtures:\n",
    "    home = fixture.select_one('.sp-c-fixture__team--home .sp-c-fixture__team-name-trunc').text\n",
    "    away = fixture.select_one('.sp-c-fixture__team--away .sp-c-fixture__team-name-trunc').text\n",
    "    home_goals = fixture.select_one('.sp-c-fixture__number--home').text\n",
    "    away_goals = fixture.select_one('.sp-c-fixture__number--away').text\n",
    "\n",
    "    game_date = pd.Timestamp(url.split(\"/\")[-1])\n",
    "    if game_date >= KNOCKOUT_GAMES_START:\n",
    "      pens = fixture.select_one('.sp-c-fixture__win-message')\n",
    "      if pens is not None:\n",
    "        results.append(show_result(home, home_goals, away, away_goals, pens.text))\n",
    "        continue\n",
    "    \n",
    "    results.append(show_result(home, home_goals, away, away_goals))"
   ]
  },
  {
   "cell_type": "code",
   "execution_count": null,
   "metadata": {
    "colab": {
     "base_uri": "https://localhost:8080/"
    },
    "id": "5TETjK2Qga0X",
    "outputId": "54eec9a0-7cc7-442d-ffc7-770f26258c4d"
   },
   "outputs": [
    {
     "data": {
      "text/plain": [
       "['Turkey 0 - 3 Italy',\n",
       " 'Netherlands 3 - 2 Ukraine',\n",
       " 'Hungary 0 - 3 Portugal',\n",
       " 'Denmark 1 - 2 Belgium',\n",
       " 'Sweden 1 - 0 Slovakia',\n",
       " 'Switzerland 3 - 1 Turkey',\n",
       " 'Croatia 3 - 1 Scotland',\n",
       " 'Portugal 2 - 2 France',\n",
       " 'Croatia 3 - 5 Spain',\n",
       " 'Belgium 1 - 2 Italy',\n",
       " 'Italy 1 - 1 England (Italy win 3-2 on penalties)']"
      ]
     },
     "execution_count": 4,
     "metadata": {},
     "output_type": "execute_result"
    }
   ],
   "source": [
    "results[::5] # look at every 5th result"
   ]
  },
  {
   "cell_type": "markdown",
   "metadata": {
    "id": "8y_sQ1Ybgrpg"
   },
   "source": [
    "We want to create a `Result` class that models this data in a better, more extensible and flexible manner. Currently, we only have strings representing each result.\n",
    "\n",
    "Let's use Python's `dataclasses` to create a class container for results.\n",
    "\n",
    "The class will have the following attributes:\n",
    "- `home`: the home team\n",
    "- `away`: the away team\n",
    "- `home_goals`: the number of goals the home team scored.\n",
    "- `away_goals`: the number of goals the away team scored.\n",
    "- `penalty_winner`: the winner on penalties. Specified as `Optional[str]` with a default of `None` because matches might not go to penalties.\n",
    "- `penalty_score`: the penalty score. Specified as `Optional[str]` with a default of `None` because matches might not go to penalties.\n",
    "\n",
    "We will also define some helpful methods that encapsulate some functionality that we are interested in. Some methods we will implement include:\n",
    "\n",
    "- `is_draw()`: was the result a draw?\n",
    "- `winner()`: returns the winner, or the `DRAW_LABEL` if the result was a draw\n",
    "- `loser()`: returns the loser, or the `DRAW_LABEL` if the result was a draw\n",
    "- `goals_scored()`: returns total goals scored in the match\n",
    "- `goal_difference()`: the number of goals difference between the winning team and the losing team's goal count. Example: 4-1 or 1-4 (difference is 3 here)"
   ]
  },
  {
   "cell_type": "code",
   "execution_count": null,
   "metadata": {
    "id": "mu-UUDWWg6zH"
   },
   "outputs": [],
   "source": [
    "from dataclasses import dataclass\n",
    "from typing import Optional\n",
    "\n",
    "@dataclass\n",
    "class Result:\n",
    "  home: str\n",
    "  away: str\n",
    "  home_goals: int\n",
    "  away_goals: int\n",
    "  penalty_winner: Optional[str] = None # \"Italy\"\n",
    "  penalty_score: Optional[str]  = None # \"5-4\"\n",
    "\n",
    "  def is_draw(self) -> bool:\n",
    "    score_draw = self.home_goals == self.away_goals\n",
    "    is_group_match = self.penalty_winner is None\n",
    "    return score_draw and is_group_match\n",
    "\n",
    "  def winner(self) -> Optional[str]:\n",
    "    if self.is_draw(): return None\n",
    "    if self.home_goals > self.away_goals:\n",
    "      return self.home\n",
    "    elif self.away_goals > self.home_goals:\n",
    "      return self.away\n",
    "    else:\n",
    "      return self.penalty_winner\n",
    "\n",
    "  def loser(self) -> Optional[str]:\n",
    "    if self.is_draw(): return None\n",
    "    if self.home_goals < self.away_goals:\n",
    "      return self.home\n",
    "    elif self.away_goals < self.home_goals:\n",
    "      return self.away\n",
    "    else:\n",
    "      return self.home if self.penalty_winner == self.away else self.away\n",
    "\n",
    "  def goals_scored(self) -> int:\n",
    "    return self.home_goals + self.away_goals\n",
    "\n",
    "  def goal_difference(self) -> int:\n",
    "    return abs(self.home_goals - self.away_goals)\n",
    "\n",
    "  def __contains__(self, team):\n",
    "    return team in [self.home, self.away]\n",
    "\n",
    "  def __str__(self):\n",
    "    return f\"{self.home} {self.home_goals}-{self.away_goals} {self.away}\""
   ]
  },
  {
   "cell_type": "markdown",
   "metadata": {
    "id": "3Q8qIZmOhqv-"
   },
   "source": [
    "Soon, we are going to modify our loop to store the data as `Result` instances, rather than simply using strings.\n",
    "\n",
    "### Penalty Data\n",
    "\n",
    "Firstly, though - we need to figure out how to extract both the winning team name, and the scores, for matches that were decided by penalties.\n",
    "\n",
    "When a knockout match goes to penalties, the winning team is displayed with the following message:\n",
    "\n",
    "- `<TEAM_NAME> win 5-4 on penalties`\n",
    "\n",
    "We need to extract both the `<TEAM_NAME>` and the score from this expression.\n",
    "\n",
    "For the team name, we can simply split on the space and take the first element of the returned list.\n",
    "\n",
    "For the score, we will define a regular expression that finds the following pattern: a digit, followed by a `-`, followed by another digit.\n",
    "\n",
    "Code for this below."
   ]
  },
  {
   "cell_type": "code",
   "execution_count": null,
   "metadata": {
    "colab": {
     "base_uri": "https://localhost:8080/"
    },
    "id": "QPj6JTLMOXe6",
    "outputId": "da7d3d83-4c08-487f-f3b2-33d825e077f1"
   },
   "outputs": [
    {
     "name": "stdout",
     "output_type": "stream",
     "text": [
      "Italy\n"
     ]
    },
    {
     "data": {
      "text/plain": [
       "<re.Match object; span=(10, 13), match='5-4'>"
      ]
     },
     "execution_count": 6,
     "metadata": {},
     "output_type": "execute_result"
    }
   ],
   "source": [
    "import re\n",
    "\n",
    "msg = \"Italy win 5-4 on penalties\"\n",
    "\n",
    "winner = msg.split(\" \")[0]\n",
    "print(winner)\n",
    "\n",
    "re.search(\"\\d+-\\d+\", msg) # call .group() to retrieve the text"
   ]
  },
  {
   "cell_type": "markdown",
   "metadata": {
    "id": "K0MwCgWy7OMP"
   },
   "source": [
    "We can now add this code to our loop that collects the data, for knockout games that have the `.sp-c-fixture__win-message` class"
   ]
  },
  {
   "cell_type": "code",
   "execution_count": null,
   "metadata": {
    "id": "doH8PtSHhvcA"
   },
   "outputs": [],
   "source": [
    "results = []\n",
    "\n",
    "for url in urls:\n",
    "  response = requests.get(url)\n",
    "  time.sleep(1)\n",
    "  \n",
    "  soup = BeautifulSoup(response.text)\n",
    "\n",
    "  # get all fixtures on the page\n",
    "  fixtures = soup.find_all('article', {'class': 'sp-c-fixture'})\n",
    "\n",
    "  for fixture in fixtures:\n",
    "    home = fixture.select_one('.sp-c-fixture__team--home .sp-c-fixture__team-name-trunc').text\n",
    "    away = fixture.select_one('.sp-c-fixture__team--away .sp-c-fixture__team-name-trunc').text\n",
    "    home_goals = fixture.select_one('.sp-c-fixture__number--home').text\n",
    "    away_goals = fixture.select_one('.sp-c-fixture__number--away').text\n",
    "\n",
    "    game_date = pd.Timestamp(url.split(\"/\")[-1])\n",
    "    if game_date >= KNOCKOUT_GAMES_START:\n",
    "      pens = fixture.select_one('.sp-c-fixture__win-message')\n",
    "      if pens is not None:\n",
    "\n",
    "        # extract penalty winner from string:\n",
    "        # TEAM_NAME win 5-4 on penalties\n",
    "        pen_winner = pens.text.split(\" \")[0]\n",
    "\n",
    "        # get the score using a regular expression\n",
    "        pen_score = re.search(\"\\d+-\\d+\", pens.text).group()\n",
    "\n",
    "        results.append(Result(\n",
    "            home, \n",
    "            away, \n",
    "            int(home_goals), \n",
    "            int(away_goals),\n",
    "            penalty_winner=pen_winner,\n",
    "            penalty_score=pen_score)\n",
    "        )\n",
    "        continue\n",
    "    \n",
    "    results.append(Result(\n",
    "        home,\n",
    "        away,\n",
    "        int(home_goals),\n",
    "        int(away_goals))\n",
    "    )"
   ]
  },
  {
   "cell_type": "code",
   "execution_count": null,
   "metadata": {
    "colab": {
     "base_uri": "https://localhost:8080/"
    },
    "id": "kG4xjOEdkw6Y",
    "outputId": "1c7bc96b-df79-4f38-fb33-f9cc9bd69b33"
   },
   "outputs": [
    {
     "data": {
      "text/plain": [
       "[Result(home='Turkey', away='Italy', home_goals=0, away_goals=3, penalty_winner=None, penalty_score=None),\n",
       " Result(home='Wales', away='Switzerland', home_goals=1, away_goals=1, penalty_winner=None, penalty_score=None),\n",
       " Result(home='Denmark', away='Finland', home_goals=0, away_goals=1, penalty_winner=None, penalty_score=None),\n",
       " Result(home='Belgium', away='Russia', home_goals=3, away_goals=0, penalty_winner=None, penalty_score=None),\n",
       " Result(home='Austria', away='North Macedonia', home_goals=3, away_goals=1, penalty_winner=None, penalty_score=None),\n",
       " Result(home='Netherlands', away='Ukraine', home_goals=3, away_goals=2, penalty_winner=None, penalty_score=None),\n",
       " Result(home='England', away='Croatia', home_goals=1, away_goals=0, penalty_winner=None, penalty_score=None),\n",
       " Result(home='Scotland', away='Czech Rep', home_goals=0, away_goals=2, penalty_winner=None, penalty_score=None),\n",
       " Result(home='Poland', away='Slovakia', home_goals=1, away_goals=2, penalty_winner=None, penalty_score=None),\n",
       " Result(home='Spain', away='Sweden', home_goals=0, away_goals=0, penalty_winner=None, penalty_score=None)]"
      ]
     },
     "execution_count": 8,
     "metadata": {},
     "output_type": "execute_result"
    }
   ],
   "source": [
    "results[:10]"
   ]
  },
  {
   "cell_type": "markdown",
   "metadata": {
    "id": "YbTqh5tvdgdd"
   },
   "source": [
    "We can now use our new object-oriented approach to analyze the data a bit more \"naturally\".\n",
    "\n",
    "Let's look at the winners - we'll use a list comprehension to call the `winner()` method for each of our `Result` objects that did not end in a draw."
   ]
  },
  {
   "cell_type": "code",
   "execution_count": null,
   "metadata": {
    "colab": {
     "base_uri": "https://localhost:8080/"
    },
    "id": "eUExnwv4dgvh",
    "outputId": "28036516-0b3b-4a99-a735-b3d007ec91f1"
   },
   "outputs": [
    {
     "data": {
      "text/plain": [
       "['Italy',\n",
       " 'Finland',\n",
       " 'Belgium',\n",
       " 'Austria',\n",
       " 'Netherlands',\n",
       " 'England',\n",
       " 'Czech Rep',\n",
       " 'Slovakia',\n",
       " 'Portugal',\n",
       " 'France',\n",
       " 'Wales',\n",
       " 'Italy',\n",
       " 'Russia',\n",
       " 'Belgium',\n",
       " 'Ukraine',\n",
       " 'Netherlands',\n",
       " 'Sweden',\n",
       " 'Germany',\n",
       " 'Italy',\n",
       " 'Switzerland',\n",
       " 'Belgium',\n",
       " 'Denmark',\n",
       " 'Netherlands',\n",
       " 'Austria',\n",
       " 'Croatia',\n",
       " 'England',\n",
       " 'Spain',\n",
       " 'Sweden',\n",
       " 'Denmark',\n",
       " 'Italy',\n",
       " 'Czech Rep',\n",
       " 'Belgium',\n",
       " 'Spain',\n",
       " 'Switzerland',\n",
       " 'England',\n",
       " 'Ukraine',\n",
       " 'Spain',\n",
       " 'Italy',\n",
       " 'Denmark',\n",
       " 'England',\n",
       " 'Italy',\n",
       " 'England',\n",
       " 'Italy']"
      ]
     },
     "execution_count": 9,
     "metadata": {},
     "output_type": "execute_result"
    }
   ],
   "source": [
    "# Look at the winners\n",
    "winners = [r.winner() for r in results if not r.is_draw()]\n",
    "winners"
   ]
  },
  {
   "cell_type": "markdown",
   "metadata": {
    "id": "JHVXPp9ojIOB"
   },
   "source": [
    "We can now perform basic analytics on this data. For example, we can count up the results of calling `.winner()` and `.loser()` to find out who won/lost the most matches in the tournament.\n",
    "\n",
    "We'll use the `collections.Counter` object to take care of the counting."
   ]
  },
  {
   "cell_type": "code",
   "execution_count": null,
   "metadata": {
    "colab": {
     "base_uri": "https://localhost:8080/"
    },
    "id": "oJI7LfsYiSN1",
    "outputId": "504a57fb-d5b9-4034-fb33-894e41944e38"
   },
   "outputs": [
    {
     "data": {
      "text/plain": [
       "[('Italy', 7),\n",
       " ('England', 5),\n",
       " ('Belgium', 4),\n",
       " ('Netherlands', 3),\n",
       " ('Denmark', 3),\n",
       " ('Spain', 3),\n",
       " ('Austria', 2),\n",
       " ('Czech Rep', 2),\n",
       " ('Ukraine', 2),\n",
       " ('Sweden', 2)]"
      ]
     },
     "execution_count": 10,
     "metadata": {},
     "output_type": "execute_result"
    }
   ],
   "source": [
    "# Find the 10 teams that won the most matches in the tournament\n",
    "from collections import Counter\n",
    "\n",
    "Counter(winners).most_common(10)"
   ]
  },
  {
   "cell_type": "code",
   "execution_count": null,
   "metadata": {
    "colab": {
     "base_uri": "https://localhost:8080/"
    },
    "id": "fRAEvftajmAd",
    "outputId": "20d007c0-20b1-4698-c924-916bc183cccf"
   },
   "outputs": [
    {
     "data": {
      "text/plain": [
       "[('Turkey', 3),\n",
       " ('Denmark', 3),\n",
       " ('North Macedonia', 3),\n",
       " ('Ukraine', 3),\n",
       " ('Russia', 2),\n",
       " ('Croatia', 2),\n",
       " ('Scotland', 2),\n",
       " ('Poland', 2),\n",
       " ('Germany', 2),\n",
       " ('Switzerland', 2)]"
      ]
     },
     "execution_count": 11,
     "metadata": {},
     "output_type": "execute_result"
    }
   ],
   "source": [
    "# Find the 10 teams that lost the most matches in the tournament\n",
    "losers = [r.loser() for r in results if not r.is_draw()]\n",
    "\n",
    "# sorted(Counter(losers).items(), key=lambda x: x[1], reverse=True)[:10]\n",
    "Counter(losers).most_common(10)"
   ]
  },
  {
   "cell_type": "code",
   "execution_count": null,
   "metadata": {
    "colab": {
     "base_uri": "https://localhost:8080/"
    },
    "id": "GgVhpfxej7wI",
    "outputId": "ba3a2d02-e14e-4d05-8aa5-6c3e8e69e53a"
   },
   "outputs": [
    {
     "data": {
      "text/plain": [
       "8"
      ]
     },
     "execution_count": 12,
     "metadata": {},
     "output_type": "execute_result"
    }
   ],
   "source": [
    "# Find out how many draws there were by calling is_draw()\n",
    "# Note: we can use sum() because True evaluates to 1 when cast to an int\n",
    "# and False evaluates to 0 when cast to an int.\n",
    "num_draws = sum([r.is_draw() for r in results])\n",
    "num_draws"
   ]
  },
  {
   "cell_type": "markdown",
   "metadata": {
    "id": "ujL5fgw9kUkm"
   },
   "source": [
    "We can use our `goals_scored()` function on each result object to calculate the total number of goals scored in the tournament."
   ]
  },
  {
   "cell_type": "code",
   "execution_count": null,
   "metadata": {
    "colab": {
     "base_uri": "https://localhost:8080/"
    },
    "id": "4rMEjHtCkb4w",
    "outputId": "fe76a722-c7b2-4a4a-a610-9082cdf0a1a0"
   },
   "outputs": [
    {
     "data": {
      "text/plain": [
       "142"
      ]
     },
     "execution_count": 13,
     "metadata": {},
     "output_type": "execute_result"
    }
   ],
   "source": [
    "total_goals = sum([r.goals_scored() for r in results])\n",
    "total_goals"
   ]
  },
  {
   "cell_type": "markdown",
   "metadata": {
    "id": "8ImW_374knm_"
   },
   "source": [
    "We can also use our `goal_difference()` function to compute the result that had the **maximum** goal difference - i.e. which victory was won by the biggest margin of goals."
   ]
  },
  {
   "cell_type": "code",
   "execution_count": null,
   "metadata": {
    "colab": {
     "base_uri": "https://localhost:8080/"
    },
    "id": "qLUU60tJk3_u",
    "outputId": "14eeddce-c98c-400a-cf28-289b287df4e3"
   },
   "outputs": [
    {
     "name": "stdout",
     "output_type": "stream",
     "text": [
      "Biggest margin of victory: 5 goals\n"
     ]
    },
    {
     "data": {
      "text/plain": [
       "['Slovakia 0-5 Spain']"
      ]
     },
     "execution_count": 14,
     "metadata": {},
     "output_type": "execute_result"
    }
   ],
   "source": [
    "max_goal_diff = max([r.goal_difference() for r in results])\n",
    "print(f\"Biggest margin of victory: {max_goal_diff} goals\")\n",
    "\n",
    "# which result(s) does this correspond to?\n",
    "biggest_victories = [str(r) for r in results if r.goal_difference() == max_goal_diff]\n",
    "biggest_victories"
   ]
  },
  {
   "cell_type": "markdown",
   "metadata": {
    "id": "EAjbDdBYlmul"
   },
   "source": [
    "We can look at other comprehensive victories by searching for results that were won by 4 goals."
   ]
  },
  {
   "cell_type": "code",
   "execution_count": null,
   "metadata": {
    "colab": {
     "base_uri": "https://localhost:8080/"
    },
    "id": "7KGSfV1SlmEn",
    "outputId": "aa3c29c8-2ad1-4562-c623-de8013f24664"
   },
   "outputs": [
    {
     "data": {
      "text/plain": [
       "['Wales 0-4 Denmark', 'Ukraine 0-4 England']"
      ]
     },
     "execution_count": 15,
     "metadata": {},
     "output_type": "execute_result"
    }
   ],
   "source": [
    "# which result(s) had a goal difference of 4 [max_goal_diff - 1]\n",
    "biggest_victories = [str(r) for r in results if r.goal_difference() == 4]\n",
    "biggest_victories"
   ]
  }
 ],
 "metadata": {
  "colab": {
   "collapsed_sections": [],
   "name": "Euro 2020 data modelling #1",
   "provenance": []
  },
  "kernelspec": {
   "display_name": "Python 3",
   "language": "python",
   "name": "python3"
  },
  "language_info": {
   "codemirror_mode": {
    "name": "ipython",
    "version": 3
   },
   "file_extension": ".py",
   "mimetype": "text/x-python",
   "name": "python",
   "nbconvert_exporter": "python",
   "pygments_lexer": "ipython3",
   "version": "3.8.5"
  }
 },
 "nbformat": 4,
 "nbformat_minor": 1
}
