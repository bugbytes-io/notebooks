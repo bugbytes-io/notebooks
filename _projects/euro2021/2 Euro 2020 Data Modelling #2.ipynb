{
  "nbformat": 4,
  "nbformat_minor": 0,
  "metadata": {
    "colab": {
      "name": "Euro 2020 data modelling #2",
      "provenance": [],
      "collapsed_sections": []
    },
    "kernelspec": {
      "name": "python3",
      "display_name": "Python 3"
    },
    "language_info": {
      "name": "python"
    }
  },
  "cells": [
    {
      "cell_type": "markdown",
      "metadata": {
        "id": "MmDIAPaWfcyJ"
      },
      "source": [
        "### Data Modelling #2 Overview\n",
        "\n",
        "In this lesson, we will create a `TeamStat` class to represent a team's overall statistics in the tournament (goals scored, goals conceded, games won on penalties, etc)"
      ]
    },
    {
      "cell_type": "code",
      "metadata": {
        "id": "YQy-NxOuXjdb"
      },
      "source": [
        "import time\n",
        "from bs4 import BeautifulSoup\n",
        "import pandas as pd\n",
        "import requests"
      ],
      "execution_count": null,
      "outputs": []
    },
    {
      "cell_type": "markdown",
      "metadata": {
        "id": "K5RUPc4VXm9S"
      },
      "source": [
        "In the last tutorial we had the following code to gather Euro 2021 data"
      ]
    },
    {
      "cell_type": "code",
      "metadata": {
        "id": "hpOBn4BDXlne"
      },
      "source": [
        "base_url = 'https://www.bbc.co.uk/sport/football/european-championship/scores-fixtures'\n",
        "start_date = '2021-06-11'\n",
        "end_date = '2021-07-11'\n",
        "KNOCKOUT_GAMES_START = pd.Timestamp('2021-06-26')\n",
        "\n",
        "# generate tournament dates and URLs\n",
        "tournament_dates = pd.date_range(start_date, end_date)\n",
        "urls = [f\"{base_url}/{dt.date()}\" for dt in tournament_dates]\n",
        "\n",
        "# container to store results\n",
        "results = []\n",
        "\n",
        "def show_result(home, home_goals, away, away_goals, pens=None) -> str:\n",
        "  \"\"\" Stringifies a result from the scraped data \"\"\"\n",
        "  if pens:\n",
        "    return f\"{home} {home_goals} - {away_goals} {away} ({pens})\"  \n",
        "  return f\"{home} {home_goals} - {away_goals} {away}\"\n",
        "\n",
        "\n",
        "for url in urls:\n",
        "  response = requests.get(url)\n",
        "  # time.sleep(1)\n",
        "  \n",
        "  soup = BeautifulSoup(response.text)\n",
        "\n",
        "  # get all fixtures on the page\n",
        "  fixtures = soup.find_all('article', {'class': 'sp-c-fixture'})\n",
        "\n",
        "  for fixture in fixtures:\n",
        "    home = fixture.select_one('.sp-c-fixture__team--home .sp-c-fixture__team-name-trunc').text\n",
        "    away = fixture.select_one('.sp-c-fixture__team--away .sp-c-fixture__team-name-trunc').text\n",
        "    home_goals = fixture.select_one('.sp-c-fixture__number--home').text\n",
        "    away_goals = fixture.select_one('.sp-c-fixture__number--away').text\n",
        "\n",
        "    game_date = pd.Timestamp(url.split(\"/\")[-1])\n",
        "    if game_date >= KNOCKOUT_GAMES_START:\n",
        "      pens = fixture.select_one('.sp-c-fixture__win-message')\n",
        "      if pens is not None:\n",
        "        results.append(show_result(home, home_goals, away, away_goals, pens.text))\n",
        "        continue\n",
        "    \n",
        "    results.append(show_result(home, home_goals, away, away_goals))"
      ],
      "execution_count": null,
      "outputs": []
    },
    {
      "cell_type": "code",
      "metadata": {
        "colab": {
          "base_uri": "https://localhost:8080/"
        },
        "id": "5TETjK2Qga0X",
        "outputId": "8f7de3ac-fec3-40e9-b4f3-3aef0cb21ccd"
      },
      "source": [
        "results[::5] # look at every 5th result"
      ],
      "execution_count": null,
      "outputs": [
        {
          "output_type": "execute_result",
          "data": {
            "text/plain": [
              "['Turkey 0 - 3 Italy',\n",
              " 'Netherlands 3 - 2 Ukraine',\n",
              " 'Hungary 0 - 3 Portugal',\n",
              " 'Denmark 1 - 2 Belgium',\n",
              " 'Sweden 1 - 0 Slovakia',\n",
              " 'Switzerland 3 - 1 Turkey',\n",
              " 'Croatia 3 - 1 Scotland',\n",
              " 'Portugal 2 - 2 France',\n",
              " 'Croatia 3 - 5 Spain',\n",
              " 'Belgium 1 - 2 Italy',\n",
              " 'Italy 1 - 1 England (Italy win 3-2 on penalties)']"
            ]
          },
          "metadata": {},
          "execution_count": 3
        }
      ]
    },
    {
      "cell_type": "markdown",
      "metadata": {
        "id": "8y_sQ1Ybgrpg"
      },
      "source": [
        "We want to create a `Result` class that models this data in a better, more extensible and flexible manner. Currently, we only have strings representing each result.\n",
        "\n",
        "Let's use Python's `dataclasses` to create a class container for results.\n",
        "\n",
        "The class will have the following attributes:\n",
        "- `home`: the home team\n",
        "- `away`: the away team\n",
        "- `home_goals`: the number of goals the home team scored.\n",
        "- `away_goals`: the number of goals the away team scored.\n",
        "- `penalty_winner`: the winner on penalties. Specified as `Optional[str]` with a default of `None` because matches might not go to penalties.\n",
        "- `penalty_score`: the penalty score. Specified as `Optional[str]` with a default of `None` because matches might not go to penalties.\n",
        "\n",
        "We will also define some helpful methods that encapsulate some functionality that we are interested in. Some methods we will implement include:\n",
        "\n",
        "- `is_draw()`: was the result a draw?\n",
        "- `winner()`: returns the winner, or the `DRAW_LABEL` if the result was a draw\n",
        "- `loser()`: returns the loser, or the `DRAW_LABEL` if the result was a draw\n",
        "- `goals_scored()`: returns total goals scored in the match\n",
        "- `goal_difference()`: the number of goals difference between the winning team and the losing team's goal count. Example: 4-1 or 1-4 (difference is 3 here)\n",
        "- ``"
      ]
    },
    {
      "cell_type": "code",
      "metadata": {
        "id": "mu-UUDWWg6zH"
      },
      "source": [
        "from dataclasses import dataclass\n",
        "from typing import ClassVar, Optional\n",
        "\n",
        "@dataclass\n",
        "class Result:\n",
        "  home: str\n",
        "  away: str\n",
        "  home_goals: int\n",
        "  away_goals: int\n",
        "  penalty_winner: Optional[str] = None # \"Italy\"\n",
        "  penalty_score: Optional[str]  = None # \"5-4\"\n",
        "\n",
        "  def is_draw(self) -> bool:\n",
        "    score_draw = self.home_goals == self.away_goals\n",
        "    is_group_match = self.penalty_winner is None\n",
        "    return score_draw and is_group_match\n",
        "\n",
        "  def winner(self) -> Optional[str]:\n",
        "    if self.is_draw(): return None\n",
        "\n",
        "    if self.home_goals > self.away_goals:\n",
        "      return self.home\n",
        "    elif self.away_goals > self.home_goals:\n",
        "      return self.away\n",
        "    else:\n",
        "      return self.penalty_winner\n",
        "\n",
        "  def loser(self) -> Optional[str]:\n",
        "    if self.is_draw(): None\n",
        "    if self.home_goals < self.away_goals:\n",
        "      return self.home\n",
        "    elif self.away_goals < self.home_goals:\n",
        "      return self.away\n",
        "    else:\n",
        "      return self.home if self.penalty_winner == self.away else self.away\n",
        "\n",
        "  def goals_scored(self) -> int:\n",
        "    return self.home_goals + self.away_goals\n",
        "\n",
        "  def goal_difference(self) -> int:\n",
        "    return abs(self.home_goals - self.away_goals)\n",
        "\n",
        "  def __contains__(self, team):\n",
        "    return team in [self.home, self.away]\n",
        "\n",
        "  def __str__(self):\n",
        "    return f\"{self.home} {self.home_goals}-{self.away_goals} {self.away}\""
      ],
      "execution_count": null,
      "outputs": []
    },
    {
      "cell_type": "markdown",
      "metadata": {
        "id": "3Q8qIZmOhqv-"
      },
      "source": [
        "Soon, we are going to modify our loop to store the data as `Result` instances, rather than simply using strings.\n",
        "\n",
        "### Penalty Data\n",
        "\n",
        "Firstly, though - we need to figure out how to extract both the winning team name, and the scores, for matches that were decided by penalties.\n",
        "\n",
        "When a knockout match goes to penalties, the winning team is displayed with the following message:\n",
        "\n",
        "- `<TEAM_NAME> win 5-4 on penalties`\n",
        "\n",
        "We need to extract both the `<TEAM_NAME>` and the score from this expression.\n",
        "\n",
        "For the team name, we can simply split on the space and take the first element of the returned list.\n",
        "\n",
        "For the score, we will define a regular expression that finds the following pattern: a digit, followed by a `-`, followed by another digit.\n",
        "\n",
        "Code for this below."
      ]
    },
    {
      "cell_type": "code",
      "metadata": {
        "colab": {
          "base_uri": "https://localhost:8080/"
        },
        "id": "QPj6JTLMOXe6",
        "outputId": "c179ec65-fb5c-40c3-d62b-6891d177141a"
      },
      "source": [
        "import re\n",
        "\n",
        "msg = \"Italy win 5-4 on penalties\"\n",
        "\n",
        "winner = msg.split(\" \")[0]\n",
        "print(winner)\n",
        "\n",
        "re.search(\"\\d+-\\d+\", msg) # call .group() to retrieve the text"
      ],
      "execution_count": null,
      "outputs": [
        {
          "output_type": "stream",
          "name": "stdout",
          "text": [
            "Italy\n"
          ]
        },
        {
          "output_type": "execute_result",
          "data": {
            "text/plain": [
              "<re.Match object; span=(10, 13), match='5-4'>"
            ]
          },
          "metadata": {},
          "execution_count": 5
        }
      ]
    },
    {
      "cell_type": "markdown",
      "metadata": {
        "id": "K0MwCgWy7OMP"
      },
      "source": [
        "We can now add this code to our loop that collects the data, for knockout games that have the `.sp-c-fixture__win-message` class"
      ]
    },
    {
      "cell_type": "code",
      "metadata": {
        "id": "doH8PtSHhvcA"
      },
      "source": [
        "results = []\n",
        "\n",
        "for url in urls:\n",
        "  response = requests.get(url)\n",
        "  time.sleep(1)\n",
        "  \n",
        "  soup = BeautifulSoup(response.text)\n",
        "\n",
        "  # get all fixtures on the page\n",
        "  fixtures = soup.find_all('article', {'class': 'sp-c-fixture'})\n",
        "\n",
        "  for fixture in fixtures:\n",
        "    home = fixture.select_one('.sp-c-fixture__team--home .sp-c-fixture__team-name-trunc').text\n",
        "    away = fixture.select_one('.sp-c-fixture__team--away .sp-c-fixture__team-name-trunc').text\n",
        "    home_goals = fixture.select_one('.sp-c-fixture__number--home').text\n",
        "    away_goals = fixture.select_one('.sp-c-fixture__number--away').text\n",
        "\n",
        "    game_date = pd.Timestamp(url.split(\"/\")[-1])\n",
        "    if game_date >= KNOCKOUT_GAMES_START:\n",
        "      pens = fixture.select_one('.sp-c-fixture__win-message')\n",
        "      if pens is not None:\n",
        "\n",
        "        # extract penalty winner from string:\n",
        "        # TEAM_NAME win 5-4 on penalties\n",
        "        pen_winner = pens.text.split(\" \")[0]\n",
        "\n",
        "        # get the score using a regular expression\n",
        "        pen_score = re.search(\"\\d+-\\d+\", pens.text).group()\n",
        "\n",
        "        results.append(Result(\n",
        "            home, \n",
        "            away, \n",
        "            int(home_goals), \n",
        "            int(away_goals),\n",
        "            penalty_winner=pen_winner,\n",
        "            penalty_score=pen_score)\n",
        "        )\n",
        "        continue\n",
        "    \n",
        "    results.append(Result(\n",
        "        home,\n",
        "        away,\n",
        "        int(home_goals),\n",
        "        int(away_goals))\n",
        "    )"
      ],
      "execution_count": null,
      "outputs": []
    },
    {
      "cell_type": "code",
      "metadata": {
        "colab": {
          "base_uri": "https://localhost:8080/"
        },
        "id": "kG4xjOEdkw6Y",
        "outputId": "0d30c176-5935-4066-be50-ec178f339f19"
      },
      "source": [
        "results[:10]"
      ],
      "execution_count": null,
      "outputs": [
        {
          "output_type": "execute_result",
          "data": {
            "text/plain": [
              "[Result(home='Turkey', away='Italy', home_goals=0, away_goals=3, penalty_winner=None, penalty_score=None),\n",
              " Result(home='Wales', away='Switzerland', home_goals=1, away_goals=1, penalty_winner=None, penalty_score=None),\n",
              " Result(home='Denmark', away='Finland', home_goals=0, away_goals=1, penalty_winner=None, penalty_score=None),\n",
              " Result(home='Belgium', away='Russia', home_goals=3, away_goals=0, penalty_winner=None, penalty_score=None),\n",
              " Result(home='Austria', away='North Macedonia', home_goals=3, away_goals=1, penalty_winner=None, penalty_score=None),\n",
              " Result(home='Netherlands', away='Ukraine', home_goals=3, away_goals=2, penalty_winner=None, penalty_score=None),\n",
              " Result(home='England', away='Croatia', home_goals=1, away_goals=0, penalty_winner=None, penalty_score=None),\n",
              " Result(home='Scotland', away='Czech Rep', home_goals=0, away_goals=2, penalty_winner=None, penalty_score=None),\n",
              " Result(home='Poland', away='Slovakia', home_goals=1, away_goals=2, penalty_winner=None, penalty_score=None),\n",
              " Result(home='Spain', away='Sweden', home_goals=0, away_goals=0, penalty_winner=None, penalty_score=None)]"
            ]
          },
          "metadata": {},
          "execution_count": 7
        }
      ]
    },
    {
      "cell_type": "markdown",
      "metadata": {
        "id": "YbTqh5tvdgdd"
      },
      "source": [
        "We can now use our new object-oriented approach to analyze the data a bit more \"naturally\".\n",
        "\n",
        "Let's look at the winners - we'll use a list comprehension to call the `winner()` method for each of our `Result` objects that did not end in a draw."
      ]
    },
    {
      "cell_type": "code",
      "metadata": {
        "id": "eUExnwv4dgvh",
        "colab": {
          "base_uri": "https://localhost:8080/"
        },
        "outputId": "cfc8d080-dd32-4228-ae60-4be1543036dc"
      },
      "source": [
        "# Look at the winners\n",
        "winners = [r.winner() for r in results if not r.is_draw()]\n",
        "winners"
      ],
      "execution_count": null,
      "outputs": [
        {
          "output_type": "execute_result",
          "data": {
            "text/plain": [
              "['Italy',\n",
              " 'Finland',\n",
              " 'Belgium',\n",
              " 'Austria',\n",
              " 'Netherlands',\n",
              " 'England',\n",
              " 'Czech Rep',\n",
              " 'Slovakia',\n",
              " 'Portugal',\n",
              " 'France',\n",
              " 'Wales',\n",
              " 'Italy',\n",
              " 'Russia',\n",
              " 'Belgium',\n",
              " 'Ukraine',\n",
              " 'Netherlands',\n",
              " 'Sweden',\n",
              " 'Germany',\n",
              " 'Italy',\n",
              " 'Switzerland',\n",
              " 'Belgium',\n",
              " 'Denmark',\n",
              " 'Netherlands',\n",
              " 'Austria',\n",
              " 'Croatia',\n",
              " 'England',\n",
              " 'Spain',\n",
              " 'Sweden',\n",
              " 'Denmark',\n",
              " 'Italy',\n",
              " 'Czech Rep',\n",
              " 'Belgium',\n",
              " 'Spain',\n",
              " 'Switzerland',\n",
              " 'England',\n",
              " 'Ukraine',\n",
              " 'Spain',\n",
              " 'Italy',\n",
              " 'Denmark',\n",
              " 'England',\n",
              " 'Italy',\n",
              " 'England',\n",
              " 'Italy']"
            ]
          },
          "metadata": {},
          "execution_count": 8
        }
      ]
    },
    {
      "cell_type": "markdown",
      "metadata": {
        "id": "JHVXPp9ojIOB"
      },
      "source": [
        "We can now perform basic analytics on this data. For example, we can count up the results of calling `.winner()` and `.loser()` to find out who won/lost the most matches in the tournament.\n",
        "\n",
        "We'll use the `collections.Counter` object to take care of the counting."
      ]
    },
    {
      "cell_type": "code",
      "metadata": {
        "colab": {
          "base_uri": "https://localhost:8080/"
        },
        "id": "oJI7LfsYiSN1",
        "outputId": "05f77fbd-2277-4814-c813-6605241a619a"
      },
      "source": [
        "# Find the 10 teams that won the most matches in the tournament\n",
        "from collections import Counter\n",
        "\n",
        "Counter(winners).most_common(10)"
      ],
      "execution_count": null,
      "outputs": [
        {
          "output_type": "execute_result",
          "data": {
            "text/plain": [
              "[('Italy', 7),\n",
              " ('England', 5),\n",
              " ('Belgium', 4),\n",
              " ('Netherlands', 3),\n",
              " ('Denmark', 3),\n",
              " ('Spain', 3),\n",
              " ('Austria', 2),\n",
              " ('Czech Rep', 2),\n",
              " ('Ukraine', 2),\n",
              " ('Sweden', 2)]"
            ]
          },
          "metadata": {},
          "execution_count": 9
        }
      ]
    },
    {
      "cell_type": "code",
      "metadata": {
        "colab": {
          "base_uri": "https://localhost:8080/"
        },
        "id": "fRAEvftajmAd",
        "outputId": "1052f93c-ab03-4c02-a66a-e1b6caeadb25"
      },
      "source": [
        "# Find the 10 teams that lost the most matches in the tournament\n",
        "losers = [r.loser() for r in results if not r.is_draw()]\n",
        "\n",
        "# sorted(Counter(losers).items(), key=lambda x: x[1], reverse=True)[:10]\n",
        "Counter(losers).most_common(10)"
      ],
      "execution_count": null,
      "outputs": [
        {
          "output_type": "execute_result",
          "data": {
            "text/plain": [
              "[('Turkey', 3),\n",
              " ('Denmark', 3),\n",
              " ('North Macedonia', 3),\n",
              " ('Ukraine', 3),\n",
              " ('Russia', 2),\n",
              " ('Croatia', 2),\n",
              " ('Scotland', 2),\n",
              " ('Poland', 2),\n",
              " ('Germany', 2),\n",
              " ('Switzerland', 2)]"
            ]
          },
          "metadata": {},
          "execution_count": 10
        }
      ]
    },
    {
      "cell_type": "code",
      "metadata": {
        "colab": {
          "base_uri": "https://localhost:8080/"
        },
        "id": "GgVhpfxej7wI",
        "outputId": "801ce3da-b011-4d48-8ea5-180ecf583ce6"
      },
      "source": [
        "# Find out how many draws there were by calling is_draw()\n",
        "# Note: we can use sum() because True evaluates to 1 when cast to an int\n",
        "# and False evaluates to 0 when cast to an int.\n",
        "num_draws = sum([r.is_draw() for r in results])\n",
        "num_draws"
      ],
      "execution_count": null,
      "outputs": [
        {
          "output_type": "execute_result",
          "data": {
            "text/plain": [
              "8"
            ]
          },
          "metadata": {},
          "execution_count": 11
        }
      ]
    },
    {
      "cell_type": "markdown",
      "metadata": {
        "id": "ujL5fgw9kUkm"
      },
      "source": [
        "We can use our `goals_scored()` function on each result object to calculate the total number of goals scored in the tournament."
      ]
    },
    {
      "cell_type": "code",
      "metadata": {
        "colab": {
          "base_uri": "https://localhost:8080/"
        },
        "id": "4rMEjHtCkb4w",
        "outputId": "2bc25805-008d-4a54-e614-fe0e1081c317"
      },
      "source": [
        "total_goals = sum([r.goals_scored() for r in results])\n",
        "total_goals"
      ],
      "execution_count": null,
      "outputs": [
        {
          "output_type": "execute_result",
          "data": {
            "text/plain": [
              "142"
            ]
          },
          "metadata": {},
          "execution_count": 12
        }
      ]
    },
    {
      "cell_type": "markdown",
      "metadata": {
        "id": "8ImW_374knm_"
      },
      "source": [
        "We can also use our `goal_difference()` function to compute the result that had the **maximum** goal difference - i.e. which victory was won by the biggest margin of goals."
      ]
    },
    {
      "cell_type": "code",
      "metadata": {
        "colab": {
          "base_uri": "https://localhost:8080/"
        },
        "id": "qLUU60tJk3_u",
        "outputId": "b0c92569-f33a-400a-d99b-5978eb852825"
      },
      "source": [
        "max_goal_diff = max([r.goal_difference() for r in results])\n",
        "print(f\"Biggest margin of victory: {max_goal_diff} goals\")\n",
        "\n",
        "# which result(s) does this correspond to?\n",
        "biggest_victories = [str(r) for r in results if r.goal_difference() == max_goal_diff]\n",
        "biggest_victories"
      ],
      "execution_count": null,
      "outputs": [
        {
          "output_type": "stream",
          "name": "stdout",
          "text": [
            "Biggest margin of victory: 5 goals\n"
          ]
        },
        {
          "output_type": "execute_result",
          "data": {
            "text/plain": [
              "['Slovakia 0-5 Spain']"
            ]
          },
          "metadata": {},
          "execution_count": 13
        }
      ]
    },
    {
      "cell_type": "markdown",
      "metadata": {
        "id": "EAjbDdBYlmul"
      },
      "source": [
        "We can look at other comprehensive victories by searching for results that were won by 4 goals."
      ]
    },
    {
      "cell_type": "code",
      "metadata": {
        "colab": {
          "base_uri": "https://localhost:8080/"
        },
        "id": "7KGSfV1SlmEn",
        "outputId": "2abb0362-1ab9-4e9a-d0f8-945cdbfd198c"
      },
      "source": [
        "# which result(s) had a goal difference of 4 [max_goal_diff - 1]\n",
        "biggest_victories = [str(r) for r in results if r.goal_difference() == 4]\n",
        "biggest_victories"
      ],
      "execution_count": null,
      "outputs": [
        {
          "output_type": "execute_result",
          "data": {
            "text/plain": [
              "['Wales 0-4 Denmark', 'Ukraine 0-4 England']"
            ]
          },
          "metadata": {},
          "execution_count": 14
        }
      ]
    },
    {
      "cell_type": "markdown",
      "metadata": {
        "id": "BJNsTGLkrGtg"
      },
      "source": [
        "### Team models\n",
        "\n",
        "We might also be interested in looking at individual team statistics, such as:\n",
        "\n",
        "- how many games did a team play?\n",
        "- how many goals did they score?\n",
        "- how many goals did they concede?\n",
        "- what was their tournament goal difference? (goals scored - goals conceded)\n",
        "- how many of their games went to penalties?\n",
        "\n",
        "There are different ways we could do this. We could simply use a dictionary to track the data, and that would be an appropriate, natural approach.\n",
        "\n",
        "We could also create a container class. The benefit of this approach is that it allows us to create instance methods that encapsulate functionality. Let's define a class called `TeamStats` that will collect this data for each distinct team in the tournament."
      ]
    },
    {
      "cell_type": "code",
      "metadata": {
        "id": "vBUiGbPJs8tj"
      },
      "source": [
        "@dataclass\n",
        "class TeamStats:\n",
        "  name: str\n",
        "  games_won: int = 0 # default values\n",
        "  games_drawn: int = 0\n",
        "  games_lost: int = 0\n",
        "  goals_scored: int = 0\n",
        "  goals_conceded: int = 0\n",
        "  penalty_games: int = 0\n",
        "\n",
        "  @property  # calculated field, so let's make it a property\n",
        "  def goal_difference(self) -> int:\n",
        "    return self.goals_scored - self.goals_conceded\n",
        "\n",
        "  def __eq__(self, team) -> bool:\n",
        "    return self.name == team.name"
      ],
      "execution_count": null,
      "outputs": []
    },
    {
      "cell_type": "markdown",
      "metadata": {
        "id": "D1YW73yTuMJw"
      },
      "source": [
        "We now need to create a `TeamStats` object for each team in the tournament.\n",
        "\n",
        "Because of `Result` class contains home and away teams, we'll use a set union to get all the distinct teams, as below.\n",
        "\n",
        "Note - in Python, the `&` operator performs a union of two sets."
      ]
    },
    {
      "cell_type": "code",
      "metadata": {
        "colab": {
          "base_uri": "https://localhost:8080/"
        },
        "id": "FCkkYGAQuWDy",
        "outputId": "386b70fc-0af6-4bbd-beae-aa66cf3202c7"
      },
      "source": [
        "TEAMS_IN_TOURNAMENT = 24\n",
        "all_teams = {r.home for r in results} & {r.away for r in results}\n",
        "\n",
        "# sanity check to ensure the correct number of teams exist\n",
        "assert len(all_teams) == TEAMS_IN_TOURNAMENT\n",
        "\n",
        "# now we create the TeamStats object for each team\n",
        "teams = [TeamStats(a) for a in all_teams]\n",
        "teams[:5]"
      ],
      "execution_count": null,
      "outputs": [
        {
          "output_type": "execute_result",
          "data": {
            "text/plain": [
              "[TeamStats(name='France', games_won=0, games_drawn=0, games_lost=0, goals_scored=0, goals_conceded=0, penalty_games=0),\n",
              " TeamStats(name='Russia', games_won=0, games_drawn=0, games_lost=0, goals_scored=0, goals_conceded=0, penalty_games=0),\n",
              " TeamStats(name='North Macedonia', games_won=0, games_drawn=0, games_lost=0, goals_scored=0, goals_conceded=0, penalty_games=0),\n",
              " TeamStats(name='Slovakia', games_won=0, games_drawn=0, games_lost=0, goals_scored=0, goals_conceded=0, penalty_games=0),\n",
              " TeamStats(name='Czech Rep', games_won=0, games_drawn=0, games_lost=0, goals_scored=0, goals_conceded=0, penalty_games=0)]"
            ]
          },
          "metadata": {},
          "execution_count": 16
        }
      ]
    },
    {
      "cell_type": "markdown",
      "metadata": {
        "id": "NOsdtQH_u8C4"
      },
      "source": [
        "These objects only have the default values, for now. We need to populate the fields with the correct information.\n",
        "\n",
        "We'll do this by iterating over all the results, getting the home and away teams, and finding the correct `TeamStats` object in the above `teams` list.\n",
        "\n",
        "Once we have found these, we'll add the values for each of the fields.\n",
        "\n",
        "Code for this is shown below.\n",
        "\n",
        "NOTE: this is perfect code for unit testing. We are doing manual updates to a data structure, and we need to ensure that the updates are being done correctly. Unit tests are key for this type of code!"
      ]
    },
    {
      "cell_type": "code",
      "metadata": {
        "id": "uKIBQ-dfvQc7"
      },
      "source": [
        "from typing import List\n",
        "\n",
        "def parse_team_stats(results: List[Result]) -> List[TeamStats]:\n",
        "  all_teams = {r.home for r in results} & {r.away for r in results}\n",
        "  teams = [TeamStats(a) for a in all_teams]\n",
        "  \n",
        "  for result in results:\n",
        "    home, away = result.home, result.away\n",
        "\n",
        "    # Home team stats\n",
        "    h_teamstats = next(t for t in teams if t.name == home)\n",
        "    h_teamstats.goals_scored += result.home_goals\n",
        "    h_teamstats.goals_conceded += result.away_goals\n",
        "\n",
        "    # Away team stats\n",
        "    a_teamstats = next(t for t in teams if t.name == away)\n",
        "    a_teamstats.goals_scored += result.away_goals\n",
        "    a_teamstats.goals_conceded += result.home_goals\n",
        "\n",
        "    # Update games won/drawn/lost, and also penalties\n",
        "    if result.winner() == home:\n",
        "      h_teamstats.games_won += 1\n",
        "      a_teamstats.games_lost += 1\n",
        "    elif result.winner() == away:\n",
        "      h_teamstats.games_lost += 1\n",
        "      a_teamstats.games_won += 1\n",
        "    else:\n",
        "      h_teamstats.games_drawn += 1\n",
        "      a_teamstats.games_drawn += 1\n",
        "    \n",
        "    # finally, check if the match went to penalties\n",
        "    if result.penalty_winner is not None:\n",
        "      h_teamstats.penalty_games += 1\n",
        "      a_teamstats.penalty_games += 1\n",
        "  return teams"
      ],
      "execution_count": null,
      "outputs": []
    },
    {
      "cell_type": "code",
      "metadata": {
        "id": "yyG9vZUxvX4n"
      },
      "source": [
        "team_stats = parse_team_stats(results)"
      ],
      "execution_count": null,
      "outputs": []
    },
    {
      "cell_type": "code",
      "metadata": {
        "colab": {
          "base_uri": "https://localhost:8080/"
        },
        "id": "873d5VxX1X-W",
        "outputId": "22590996-5f6b-4f72-c7ad-4c9ccae07e5c"
      },
      "source": [
        "team_stats"
      ],
      "execution_count": null,
      "outputs": [
        {
          "output_type": "execute_result",
          "data": {
            "text/plain": [
              "[TeamStats(name='France', games_won=1, games_drawn=2, games_lost=1, goals_scored=7, goals_conceded=6, penalty_games=1),\n",
              " TeamStats(name='Russia', games_won=1, games_drawn=0, games_lost=2, goals_scored=2, goals_conceded=7, penalty_games=0),\n",
              " TeamStats(name='North Macedonia', games_won=0, games_drawn=0, games_lost=3, goals_scored=2, goals_conceded=8, penalty_games=0),\n",
              " TeamStats(name='Slovakia', games_won=1, games_drawn=0, games_lost=2, goals_scored=2, goals_conceded=7, penalty_games=0),\n",
              " TeamStats(name='Czech Rep', games_won=2, games_drawn=1, games_lost=2, goals_scored=6, goals_conceded=4, penalty_games=0),\n",
              " TeamStats(name='Hungary', games_won=0, games_drawn=2, games_lost=1, goals_scored=3, goals_conceded=6, penalty_games=0),\n",
              " TeamStats(name='Croatia', games_won=1, games_drawn=1, games_lost=2, goals_scored=7, goals_conceded=8, penalty_games=0),\n",
              " TeamStats(name='Portugal', games_won=1, games_drawn=1, games_lost=2, goals_scored=7, goals_conceded=7, penalty_games=0),\n",
              " TeamStats(name='Spain', games_won=3, games_drawn=2, games_lost=1, goals_scored=13, goals_conceded=6, penalty_games=2),\n",
              " TeamStats(name='Finland', games_won=1, games_drawn=0, games_lost=2, goals_scored=1, goals_conceded=3, penalty_games=0),\n",
              " TeamStats(name='Italy', games_won=7, games_drawn=0, games_lost=0, goals_scored=13, goals_conceded=4, penalty_games=2),\n",
              " TeamStats(name='Netherlands', games_won=3, games_drawn=0, games_lost=1, goals_scored=8, goals_conceded=4, penalty_games=0),\n",
              " TeamStats(name='Poland', games_won=0, games_drawn=1, games_lost=2, goals_scored=4, goals_conceded=6, penalty_games=0),\n",
              " TeamStats(name='Scotland', games_won=0, games_drawn=1, games_lost=2, goals_scored=1, goals_conceded=5, penalty_games=0),\n",
              " TeamStats(name='Germany', games_won=1, games_drawn=1, games_lost=2, goals_scored=6, goals_conceded=7, penalty_games=0),\n",
              " TeamStats(name='Austria', games_won=2, games_drawn=0, games_lost=2, goals_scored=5, goals_conceded=5, penalty_games=0),\n",
              " TeamStats(name='England', games_won=5, games_drawn=1, games_lost=1, goals_scored=11, goals_conceded=2, penalty_games=1),\n",
              " TeamStats(name='Sweden', games_won=2, games_drawn=1, games_lost=1, goals_scored=5, goals_conceded=4, penalty_games=0),\n",
              " TeamStats(name='Ukraine', games_won=2, games_drawn=0, games_lost=3, goals_scored=6, goals_conceded=10, penalty_games=0),\n",
              " TeamStats(name='Turkey', games_won=0, games_drawn=0, games_lost=3, goals_scored=1, goals_conceded=8, penalty_games=0),\n",
              " TeamStats(name='Wales', games_won=1, games_drawn=1, games_lost=2, goals_scored=3, goals_conceded=6, penalty_games=0),\n",
              " TeamStats(name='Switzerland', games_won=2, games_drawn=1, games_lost=2, goals_scored=8, goals_conceded=9, penalty_games=2),\n",
              " TeamStats(name='Denmark', games_won=3, games_drawn=0, games_lost=3, goals_scored=12, goals_conceded=7, penalty_games=0),\n",
              " TeamStats(name='Belgium', games_won=4, games_drawn=0, games_lost=1, goals_scored=9, goals_conceded=3, penalty_games=0)]"
            ]
          },
          "metadata": {},
          "execution_count": 19
        }
      ]
    },
    {
      "cell_type": "markdown",
      "metadata": {
        "id": "hup-tGJF1x8F"
      },
      "source": [
        "From here, we can do further interesting things, such as looking at teams with the best/worst goal difference, most penalty games."
      ]
    },
    {
      "cell_type": "code",
      "metadata": {
        "colab": {
          "base_uri": "https://localhost:8080/"
        },
        "id": "B1t67Sir2MnW",
        "outputId": "4ceda194-5b53-4043-a54f-26a3719f1684"
      },
      "source": [
        "# top 5 goal diff\n",
        "N = 10\n",
        "top10_goal_diff = sorted(team_stats, key=lambda x: x.goal_difference, reverse=True)[:N]\n",
        "# top10_goal_diff\n",
        "\n",
        "for team in top10_goal_diff:\n",
        "  print(f\"{team.name}: goal difference = {team.goal_difference}\")"
      ],
      "execution_count": null,
      "outputs": [
        {
          "output_type": "stream",
          "name": "stdout",
          "text": [
            "Italy: goal difference = 9\n",
            "England: goal difference = 9\n",
            "Spain: goal difference = 7\n",
            "Belgium: goal difference = 6\n",
            "Denmark: goal difference = 5\n",
            "Netherlands: goal difference = 4\n",
            "Czech Rep: goal difference = 2\n",
            "France: goal difference = 1\n",
            "Sweden: goal difference = 1\n",
            "Portugal: goal difference = 0\n"
          ]
        }
      ]
    },
    {
      "cell_type": "code",
      "metadata": {
        "colab": {
          "base_uri": "https://localhost:8080/"
        },
        "id": "OZfHqHUz3Tfu",
        "outputId": "eb061388-e6d5-4573-d2a2-c483303c66fb"
      },
      "source": [
        "# bottom 5 goal diff - remove \"reverse=True\" kwarg from sorted() function\n",
        "bottom10_goal_diff = sorted(team_stats, key=lambda x: x.goal_difference)[:N]\n",
        "bottom10_goal_diff\n",
        "\n",
        "for team in bottom10_goal_diff:\n",
        "  print(f\"{team.name}: goal difference = {team.goal_difference}\")"
      ],
      "execution_count": null,
      "outputs": [
        {
          "output_type": "stream",
          "name": "stdout",
          "text": [
            "Turkey: goal difference = -7\n",
            "North Macedonia: goal difference = -6\n",
            "Russia: goal difference = -5\n",
            "Slovakia: goal difference = -5\n",
            "Scotland: goal difference = -4\n",
            "Ukraine: goal difference = -4\n",
            "Hungary: goal difference = -3\n",
            "Wales: goal difference = -3\n",
            "Finland: goal difference = -2\n",
            "Poland: goal difference = -2\n"
          ]
        }
      ]
    },
    {
      "cell_type": "markdown",
      "metadata": {
        "id": "MgBsuWth4sa3"
      },
      "source": [
        "Let's see which teams were involved in penalty games."
      ]
    },
    {
      "cell_type": "code",
      "metadata": {
        "colab": {
          "base_uri": "https://localhost:8080/"
        },
        "id": "5VrTAXoV4xaC",
        "outputId": "1b91f4ca-3308-4931-a022-9fe0154df133"
      },
      "source": [
        "penalty_counts = [t for t in team_stats if t.penalty_games > 0]\n",
        "\n",
        "for team in penalty_counts:\n",
        "  print(f\"{team.name}: {team.penalty_games} penalty games\")"
      ],
      "execution_count": null,
      "outputs": [
        {
          "output_type": "stream",
          "name": "stdout",
          "text": [
            "France: 1 penalty games\n",
            "Spain: 2 penalty games\n",
            "Italy: 2 penalty games\n",
            "England: 1 penalty games\n",
            "Switzerland: 2 penalty games\n"
          ]
        }
      ]
    },
    {
      "cell_type": "markdown",
      "metadata": {
        "id": "3VGPdG-UlFAY"
      },
      "source": [
        "Let's look at the teams who scored the most goals."
      ]
    },
    {
      "cell_type": "code",
      "metadata": {
        "colab": {
          "base_uri": "https://localhost:8080/"
        },
        "id": "39VTRo2llJYv",
        "outputId": "e50040f5-3af0-4bbe-b8ea-544f0c9ac40d"
      },
      "source": [
        "top_goals = sorted(team_stats, key=lambda x: x.goals_scored, reverse=True)[:N]\n",
        "top_goals"
      ],
      "execution_count": null,
      "outputs": [
        {
          "output_type": "execute_result",
          "data": {
            "text/plain": [
              "[TeamStats(name='Spain', games_won=3, games_drawn=2, games_lost=1, goals_scored=13, goals_conceded=6, penalty_games=2),\n",
              " TeamStats(name='Italy', games_won=7, games_drawn=0, games_lost=0, goals_scored=13, goals_conceded=4, penalty_games=2),\n",
              " TeamStats(name='Denmark', games_won=3, games_drawn=0, games_lost=3, goals_scored=12, goals_conceded=7, penalty_games=0),\n",
              " TeamStats(name='England', games_won=5, games_drawn=1, games_lost=1, goals_scored=11, goals_conceded=2, penalty_games=1),\n",
              " TeamStats(name='Belgium', games_won=4, games_drawn=0, games_lost=1, goals_scored=9, goals_conceded=3, penalty_games=0),\n",
              " TeamStats(name='Netherlands', games_won=3, games_drawn=0, games_lost=1, goals_scored=8, goals_conceded=4, penalty_games=0),\n",
              " TeamStats(name='Switzerland', games_won=2, games_drawn=1, games_lost=2, goals_scored=8, goals_conceded=9, penalty_games=2),\n",
              " TeamStats(name='France', games_won=1, games_drawn=2, games_lost=1, goals_scored=7, goals_conceded=6, penalty_games=1),\n",
              " TeamStats(name='Croatia', games_won=1, games_drawn=1, games_lost=2, goals_scored=7, goals_conceded=8, penalty_games=0),\n",
              " TeamStats(name='Portugal', games_won=1, games_drawn=1, games_lost=2, goals_scored=7, goals_conceded=7, penalty_games=0)]"
            ]
          },
          "metadata": {},
          "execution_count": 23
        }
      ]
    },
    {
      "cell_type": "markdown",
      "metadata": {
        "id": "wGT53zjLlPvs"
      },
      "source": [
        "And the teams that conceded the most goals."
      ]
    },
    {
      "cell_type": "code",
      "metadata": {
        "colab": {
          "base_uri": "https://localhost:8080/"
        },
        "id": "ujurPXsJlSN0",
        "outputId": "a14316e7-a88f-47c3-8a9a-91a1896ccf4d"
      },
      "source": [
        "top_goals_conceded = sorted(team_stats, key=lambda x: x.goals_conceded, reverse=True)[:N]\n",
        "top_goals_conceded"
      ],
      "execution_count": null,
      "outputs": [
        {
          "output_type": "execute_result",
          "data": {
            "text/plain": [
              "[TeamStats(name='Ukraine', games_won=2, games_drawn=0, games_lost=3, goals_scored=6, goals_conceded=10, penalty_games=0),\n",
              " TeamStats(name='Switzerland', games_won=2, games_drawn=1, games_lost=2, goals_scored=8, goals_conceded=9, penalty_games=2),\n",
              " TeamStats(name='North Macedonia', games_won=0, games_drawn=0, games_lost=3, goals_scored=2, goals_conceded=8, penalty_games=0),\n",
              " TeamStats(name='Croatia', games_won=1, games_drawn=1, games_lost=2, goals_scored=7, goals_conceded=8, penalty_games=0),\n",
              " TeamStats(name='Turkey', games_won=0, games_drawn=0, games_lost=3, goals_scored=1, goals_conceded=8, penalty_games=0),\n",
              " TeamStats(name='Russia', games_won=1, games_drawn=0, games_lost=2, goals_scored=2, goals_conceded=7, penalty_games=0),\n",
              " TeamStats(name='Slovakia', games_won=1, games_drawn=0, games_lost=2, goals_scored=2, goals_conceded=7, penalty_games=0),\n",
              " TeamStats(name='Portugal', games_won=1, games_drawn=1, games_lost=2, goals_scored=7, goals_conceded=7, penalty_games=0),\n",
              " TeamStats(name='Germany', games_won=1, games_drawn=1, games_lost=2, goals_scored=6, goals_conceded=7, penalty_games=0),\n",
              " TeamStats(name='Denmark', games_won=3, games_drawn=0, games_lost=3, goals_scored=12, goals_conceded=7, penalty_games=0)]"
            ]
          },
          "metadata": {},
          "execution_count": 24
        }
      ]
    },
    {
      "cell_type": "markdown",
      "metadata": {
        "id": "XSH9kDD05bmR"
      },
      "source": [
        "### Conclusion\n",
        "\n",
        "We have now successfully scraped and extracted Euro 2021 results data from the BBC using the `BeautifulSoup` and `requests` libraries, and have subsequently modelled this raw data using Python objects. We were then able to extract some insights and analysis from the collected data, with the aid of our object-oriented approach.\n",
        "\n",
        "In the next lesson, we'll go one step further and use Python's data analytics and visualization libraries to further analyze and plot the data."
      ]
    }
  ]
}