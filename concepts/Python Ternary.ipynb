{
  "nbformat": 4,
  "nbformat_minor": 0,
  "metadata": {
    "colab": {
      "name": "Python Ternary.ipynb",
      "provenance": [],
      "collapsed_sections": []
    },
    "kernelspec": {
      "name": "python3",
      "display_name": "Python 3"
    },
    "language_info": {
      "name": "python"
    }
  },
  "cells": [
    {
      "cell_type": "markdown",
      "metadata": {
        "id": "MzJKbiG7mos_"
      },
      "source": [
        "A ternary expression allows for a concise way to test a condition on a single line of code\n",
        "\n",
        "In C, the syntax would be:\n",
        "```\n",
        "// ternary operator in C\n",
        "c = (a < b) ? a : b;\n",
        "```\n",
        "\n",
        "Python differs from the C/Java/JavaScript syntax, as we will look at below."
      ]
    },
    {
      "cell_type": "code",
      "metadata": {
        "colab": {
          "base_uri": "https://localhost:8080/"
        },
        "id": "_iQ7asM5j494",
        "outputId": "532f54d7-09dc-40cf-a27b-58c988052da1"
      },
      "source": [
        "job_1 = {'title': 'Python Developer', 'salary': 80_000}\n",
        "job_2 = {'title': 'Store Manager', 'salary': 70_000}\n",
        "\n",
        "choice = job_1 if job_1['salary'] > job_2['salary'] else job_2\n",
        "\n",
        "choice"
      ],
      "execution_count": 11,
      "outputs": [
        {
          "output_type": "execute_result",
          "data": {
            "text/plain": [
              "{'salary': 80000, 'title': 'Python Developer'}"
            ]
          },
          "metadata": {
            "tags": []
          },
          "execution_count": 11
        }
      ]
    },
    {
      "cell_type": "markdown",
      "metadata": {
        "id": "upMPZA_EwlRa"
      },
      "source": [
        "This conditional/ternary expression is a better alternative for simple conditional logic that the 4 line if/else statement below.\n",
        "\n",
        "```\n",
        "if job_1['salary'] > job_2['salary']:\n",
        "  choice = job_1\n",
        "else:\n",
        "  choice = job_2\n",
        "```\n",
        "\n",
        "We can instead have a single line that is more easily readable."
      ]
    }
  ]
}