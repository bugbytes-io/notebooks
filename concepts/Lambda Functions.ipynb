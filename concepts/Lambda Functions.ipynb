{
 "cells": [
  {
   "cell_type": "markdown",
   "metadata": {},
   "source": [
    "# Lambda Functions in Python\n",
    "\n",
    "Lambda functions are anonymous functions in Python, designed for single-expression use cases.\n",
    "\n",
    "Like normal functions, lambda functions have arguments, and can return values.\n",
    "\n",
    "Lambda functions can be useful for small, logically-concise pieces of code. They are also commonly used as arguments to functions - for example, the `sorted()` function takes a `key` parameter, which is a function used to determine the sorting key. This is very commonly defined as an inline lambda when calling the function, as below.\n",
    "\n",
    "`list_sorted = sorted(list, key=lambda x: x.upper())`"
   ]
  },
  {
   "cell_type": "markdown",
   "metadata": {},
   "source": [
    "### Finding object mass\n",
    "\n",
    "We will use the famous equation $E = mc^2$, and rearrange the terms to produce $m = \\frac{E} {c^2}$.\n",
    "\n",
    "For this equation:\n",
    "\n",
    "- E - energy, measured in joules\n",
    "- m - mass, measured in kilograms\n",
    "- c - speed of light, measured in meters-per-second - a constant roughly equal to 300,000,000 metres-per second\n",
    "\n",
    "Let's write a lambda function that can accept the `E` parameters, and calculate the mass of the object.\n",
    "\n",
    "But first, we can write as a normal Python function, to compare the differences."
   ]
  },
  {
   "cell_type": "code",
   "execution_count": 1,
   "metadata": {},
   "outputs": [
    {
     "data": {
      "text/plain": [
       "90000000000000000"
      ]
     },
     "execution_count": 1,
     "metadata": {},
     "output_type": "execute_result"
    }
   ],
   "source": [
    "# Normal function\n",
    "\n",
    "c = 300_000_000\n",
    "\n",
    "def energy(mass: float) -> float:\n",
    "    # E = mc^2\n",
    "    return mass * c**2\n",
    "\n",
    "# rest energy of 1kg of mass\n",
    "m = 1\n",
    "energy(m)"
   ]
  },
  {
   "cell_type": "code",
   "execution_count": 2,
   "metadata": {},
   "outputs": [
    {
     "data": {
      "text/plain": [
       "90000000000000000"
      ]
     },
     "execution_count": 2,
     "metadata": {},
     "output_type": "execute_result"
    }
   ],
   "source": [
    "# re-define as a lambda function\n",
    "\n",
    "energy = lambda mass: mass * c**2\n",
    "\n",
    "energy(1)"
   ]
  },
  {
   "cell_type": "code",
   "execution_count": 3,
   "metadata": {},
   "outputs": [
    {
     "name": "stdout",
     "output_type": "stream",
     "text": [
      "Earth:  5.3748e+41\n",
      "Human:  6300000000000000000\n",
      "Cent:  225000000000000.0\n"
     ]
    }
   ],
   "source": [
    "# rough mass of the earth\n",
    "earth_mass = 5.972e24\n",
    "print(\"Earth: \", energy(earth_mass))\n",
    "\n",
    "# roughly average human mass \n",
    "human_mass = 70\n",
    "print(\"Human: \", energy(human_mass))\n",
    "\n",
    "# mass of an american cent\n",
    "cent_mass = 0.0025\n",
    "print(\"Cent: \", energy(cent_mass))"
   ]
  },
  {
   "cell_type": "markdown",
   "metadata": {},
   "source": [
    "### Calculating Corporation Tax\n",
    "\n",
    "UK corporation tax is set at 19% of **profits**\n",
    "\n",
    "Let's write a lambda function that takes, as arguments, a company's income and its expenses. The function will determine the profits, and then multiply by the corporation tax percentage to determine the amount of money that will need to be paid to the government.\n",
    "\n",
    "We can then compare the UK rate to that of Brazil (high - 34%) and the Cayman Islands (no corporation tax!)."
   ]
  },
  {
   "cell_type": "code",
   "execution_count": 4,
   "metadata": {},
   "outputs": [
    {
     "name": "stdout",
     "output_type": "stream",
     "text": [
      "UK rates\n",
      "190.0\n",
      "2850.0\n",
      "9215000.0\n",
      "---\n",
      "Brazil rates\n",
      "340.0\n",
      "5100.0\n",
      "16490000.000000002\n",
      "---\n",
      "Cayman Islands rates\n",
      "0\n",
      "0\n",
      "0\n"
     ]
    }
   ],
   "source": [
    "# Vary this to show effects of increasing/reducing Corp-Tax.\n",
    "CORP_TAX_RATE_UK = 0.19\n",
    "CORP_TAX_RATE_CAYMAN_ISLANDS = 0\n",
    "CORP_TAX_RATE_BRAZIL = 0.34\n",
    "\n",
    "corp_tax = lambda income, expenses, rate: max((income - expenses) * rate, 0)\n",
    "\n",
    "print(\"UK rates\")\n",
    "print(corp_tax(2000, 1000, CORP_TAX_RATE_UK))\n",
    "print(corp_tax(20_000, 5000, CORP_TAX_RATE_UK))\n",
    "print(corp_tax(50_000_000, 1_500_000, CORP_TAX_RATE_UK))\n",
    "\n",
    "print(\"---\")\n",
    "# move our business to Brazil\n",
    "print(\"Brazil rates\")\n",
    "print(corp_tax(2000, 1000, CORP_TAX_RATE_BRAZIL))\n",
    "print(corp_tax(20_000, 5000, CORP_TAX_RATE_BRAZIL))\n",
    "print(corp_tax(50_000_000, 1_500_000, CORP_TAX_RATE_BRAZIL))\n",
    "\n",
    "print(\"---\")\n",
    "# move our business to Cayman Islands\n",
    "print(\"Cayman Islands rates\")\n",
    "print(corp_tax(2000, 1000, CORP_TAX_RATE_CAYMAN_ISLANDS))\n",
    "print(corp_tax(20_000, 5000, CORP_TAX_RATE_CAYMAN_ISLANDS))\n",
    "print(corp_tax(50_000_000, 1_500_000, CORP_TAX_RATE_CAYMAN_ISLANDS))"
   ]
  },
  {
   "cell_type": "markdown",
   "metadata": {},
   "source": [
    "### Lambda functions as parameters\n",
    "\n",
    "Lambda functions are commonly used as parameters to other functions. Let's see a couple of these.\n",
    "\n",
    "1. sorted(sequence, keyfunc) - sorts the sequence according to the key function\n",
    "2. max(sequence, keyfunc) - finds the maximum item in the sequence.\n",
    "\n",
    "In both these functions (and many others), the `keyfunc` is commonly provided as a lambda function."
   ]
  },
  {
   "cell_type": "markdown",
   "metadata": {},
   "source": [
    "Let's say we have a list of movie directors, with each item in the list a dictionary containing the director's `name` and their `age`.\n",
    "\n",
    "We want to sort this by the age - we need to pass a `keyfunc` to the `sorted()` function. We'll do this as a lambda!"
   ]
  },
  {
   "cell_type": "code",
   "execution_count": 5,
   "metadata": {},
   "outputs": [
    {
     "data": {
      "text/plain": [
       "[{'name': 'Lynch', 'age': 30},\n",
       " {'name': 'Scorsese', 'age': 35},\n",
       " {'name': 'Kubrick', 'age': 41},\n",
       " {'name': 'Welles', 'age': 64}]"
      ]
     },
     "execution_count": 5,
     "metadata": {},
     "output_type": "execute_result"
    }
   ],
   "source": [
    "# sorting lists of dictionaries by a particular key\n",
    "directors = [\n",
    "    {'name': 'Kubrick', 'age': 41},\n",
    "    {'name': 'Scorsese', 'age': 35},\n",
    "    {'name': 'Lynch', 'age': 30},\n",
    "    {'name': 'Welles', 'age': 64},\n",
    "]\n",
    "\n",
    "sorted(directors, key=lambda director: director['age'])"
   ]
  },
  {
   "cell_type": "code",
   "execution_count": 6,
   "metadata": {},
   "outputs": [
    {
     "data": {
      "text/plain": [
       "['blackberries', 'Blueberries', 'gooseberries', 'Raspberries', 'strawberries']"
      ]
     },
     "execution_count": 6,
     "metadata": {},
     "output_type": "execute_result"
    }
   ],
   "source": [
    "# sorting strings with case differences\n",
    "berries = ['Blueberries', 'strawberries', 'gooseberries', 'blackberries', 'Raspberries']\n",
    "sorted(berries, key=lambda berry: berry.lower())"
   ]
  },
  {
   "cell_type": "markdown",
   "metadata": {},
   "source": [
    "### max()\n",
    "\n",
    "If we want to extract the *oldest* director, we can use the `max()` function and provide the same `keyfunc` as a lambda.\n",
    "\n",
    "To get the *youngest*, just change the `max()` function to the `min()` function."
   ]
  },
  {
   "cell_type": "code",
   "execution_count": 7,
   "metadata": {},
   "outputs": [
    {
     "data": {
      "text/plain": [
       "{'name': 'Welles', 'age': 64}"
      ]
     },
     "execution_count": 7,
     "metadata": {},
     "output_type": "execute_result"
    }
   ],
   "source": [
    "max(directors, key=lambda director: director['age'])"
   ]
  },
  {
   "cell_type": "code",
   "execution_count": 8,
   "metadata": {},
   "outputs": [
    {
     "data": {
      "text/plain": [
       "{'name': 'Lynch', 'age': 30}"
      ]
     },
     "execution_count": 8,
     "metadata": {},
     "output_type": "execute_result"
    }
   ],
   "source": [
    "min(directors, key=lambda director: director['age'])"
   ]
  }
 ],
 "metadata": {
  "kernelspec": {
   "display_name": "Python 3",
   "language": "python",
   "name": "python3"
  },
  "language_info": {
   "codemirror_mode": {
    "name": "ipython",
    "version": 3
   },
   "file_extension": ".py",
   "mimetype": "text/x-python",
   "name": "python",
   "nbconvert_exporter": "python",
   "pygments_lexer": "ipython3",
   "version": "3.8.5"
  }
 },
 "nbformat": 4,
 "nbformat_minor": 4
}
