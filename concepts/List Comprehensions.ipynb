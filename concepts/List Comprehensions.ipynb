{
 "cells": [
  {
   "cell_type": "markdown",
   "metadata": {},
   "source": [
    "# List Comprehensions\n",
    "\n",
    "In this Python conceptual demo, we are looking at a very useful and important construct offered by the language - **list comprehensions**.\n",
    "\n",
    "We'll look at how these work with lists of numbers and lists of strings, although they are useful with any data type!\n",
    "\n"
   ]
  },
  {
   "cell_type": "markdown",
   "metadata": {},
   "source": [
    "### Numbers"
   ]
  },
  {
   "cell_type": "code",
   "execution_count": 1,
   "metadata": {},
   "outputs": [
    {
     "data": {
      "text/plain": [
       "[1, 4, 9, 16, 25, 36, 49, 64, 81, 100]"
      ]
     },
     "execution_count": 1,
     "metadata": {},
     "output_type": "execute_result"
    }
   ],
   "source": [
    "numbers = [1,2,3,4,5,6,7,8,9,10]\n",
    "\n",
    "\n",
    "# with a plain, vanilla for-loop\n",
    "results = []\n",
    "for number in numbers:\n",
    "    results.append(number**2)\n",
    "        \n",
    "results"
   ]
  },
  {
   "cell_type": "code",
   "execution_count": 2,
   "metadata": {},
   "outputs": [
    {
     "data": {
      "text/plain": [
       "[1, 4, 9, 16, 25, 36, 49, 64, 81, 100]"
      ]
     },
     "execution_count": 2,
     "metadata": {},
     "output_type": "execute_result"
    }
   ],
   "source": [
    "# using a list-comprehension\n",
    "\n",
    "results = [number**2 for number in numbers]\n",
    "results"
   ]
  },
  {
   "cell_type": "code",
   "execution_count": 3,
   "metadata": {},
   "outputs": [
    {
     "data": {
      "text/plain": [
       "[4, 16, 36, 64, 100]"
      ]
     },
     "execution_count": 3,
     "metadata": {},
     "output_type": "execute_result"
    }
   ],
   "source": [
    "# looping with a conditional\n",
    "# here: collect squares of all *even* numbers in the numbers list\n",
    "\n",
    "results = []\n",
    "for number in numbers:\n",
    "    if number % 2 == 0:\n",
    "        results.append(number**2)\n",
    "        \n",
    "results"
   ]
  },
  {
   "cell_type": "code",
   "execution_count": 4,
   "metadata": {},
   "outputs": [
    {
     "data": {
      "text/plain": [
       "[4, 16, 36, 64, 100]"
      ]
     },
     "execution_count": 4,
     "metadata": {},
     "output_type": "execute_result"
    }
   ],
   "source": [
    "# achieving the same thing with a list comprehension\n",
    "# note the conditional chained to the end\n",
    "results = [number**2 for number in numbers if number % 2 == 0]\n",
    "results"
   ]
  },
  {
   "cell_type": "code",
   "execution_count": 5,
   "metadata": {},
   "outputs": [
    {
     "data": {
      "text/plain": [
       "[0, 4, 0, 16, 0, 36, 0, 64, 0, 100]"
      ]
     },
     "execution_count": 5,
     "metadata": {},
     "output_type": "execute_result"
    }
   ],
   "source": [
    "# conditional statement: x if y else z\n",
    "# these can be used in a list comprehension\n",
    "# ordering changes -- move the if/else *before* the for\n",
    "# in this case, we square even numbers, and set the odd numbers to 0\n",
    "\n",
    "results = [number**2 if number % 2 == 0 else 0 for number in numbers]\n",
    "results"
   ]
  },
  {
   "cell_type": "code",
   "execution_count": 6,
   "metadata": {},
   "outputs": [
    {
     "data": {
      "text/plain": [
       "[9, 16, 25, 36, 49]"
      ]
     },
     "execution_count": 6,
     "metadata": {},
     "output_type": "execute_result"
    }
   ],
   "source": [
    "# squaring numbers between 3 and 7\n",
    "results = [number**2 for number in numbers if 3 <= number <= 7]\n",
    "results"
   ]
  },
  {
   "cell_type": "markdown",
   "metadata": {},
   "source": [
    "### Strings\n",
    "\n",
    "Now, we are going to look at how to pluralize a list of strings using both a normal for-loop, and also using list comprehensions."
   ]
  },
  {
   "cell_type": "code",
   "execution_count": 7,
   "metadata": {},
   "outputs": [
    {
     "data": {
      "text/plain": [
       "['blueberries', 'strawberries', 'raspberries', 'blackberries', 'gooseberries']"
      ]
     },
     "execution_count": 7,
     "metadata": {},
     "output_type": "execute_result"
    }
   ],
   "source": [
    "berries = ['blueberry', 'strawberry', 'raspberry', 'blackberry', 'gooseberry']\n",
    "\n",
    "# make plural!\n",
    "plural_berries = []\n",
    "for berry in berries:\n",
    "    plural_berries.append(berry[:-1] + \"ies\")\n",
    "    \n",
    "plural_berries"
   ]
  },
  {
   "cell_type": "code",
   "execution_count": 8,
   "metadata": {},
   "outputs": [
    {
     "data": {
      "text/plain": [
       "['blueberries', 'strawberries', 'raspberries', 'blackberries', 'gooseberries']"
      ]
     },
     "execution_count": 8,
     "metadata": {},
     "output_type": "execute_result"
    }
   ],
   "source": [
    "# listcomp\n",
    "plural_berries = [berry[:-1] + \"ies\" for berry in berries]\n",
    "plural_berries"
   ]
  },
  {
   "cell_type": "code",
   "execution_count": 12,
   "metadata": {},
   "outputs": [
    {
     "data": {
      "text/plain": [
       "['blueberries', 'blackberries']"
      ]
     },
     "execution_count": 12,
     "metadata": {},
     "output_type": "execute_result"
    }
   ],
   "source": [
    "# only pluralize berries that begin with b\n",
    "plural_berries = [berry[:-1] + \"ies\" for berry in berries if berry[0] == 'b']\n",
    "plural_berries"
   ]
  },
  {
   "cell_type": "code",
   "execution_count": 10,
   "metadata": {},
   "outputs": [
    {
     "data": {
      "text/plain": [
       "['blueberries', 'strawberry', 'raspberry', 'blackberries', 'gooseberry']"
      ]
     },
     "execution_count": 10,
     "metadata": {},
     "output_type": "execute_result"
    }
   ],
   "source": [
    "# keep around the originals, and pluralize the 'b' berries\n",
    "plural_berries = [berry[:-1] + \"ies\" if berry[0] == 'b' else berry for berry in berries]\n",
    "plural_berries"
   ]
  }
 ],
 "metadata": {
  "kernelspec": {
   "display_name": "Python 3",
   "language": "python",
   "name": "python3"
  },
  "language_info": {
   "codemirror_mode": {
    "name": "ipython",
    "version": 3
   },
   "file_extension": ".py",
   "mimetype": "text/x-python",
   "name": "python",
   "nbconvert_exporter": "python",
   "pygments_lexer": "ipython3",
   "version": "3.8.5"
  }
 },
 "nbformat": 4,
 "nbformat_minor": 4
}
